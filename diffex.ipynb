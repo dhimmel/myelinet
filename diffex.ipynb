{
 "cells": [
  {
   "cell_type": "markdown",
   "metadata": {},
   "source": [
    "# Process differential expression datasets of oligodendrocyte differentiation"
   ]
  },
  {
   "cell_type": "code",
   "execution_count": 1,
   "metadata": {
    "collapsed": true
   },
   "outputs": [],
   "source": [
    "import pandas\n",
    "import numpy\n",
    "\n",
    "%matplotlib inline"
   ]
  },
  {
   "cell_type": "code",
   "execution_count": 2,
   "metadata": {
    "collapsed": true
   },
   "outputs": [],
   "source": [
    "columns = ['experiment', 'entrez_gene_id', 'gene_symbol', 'L2FC', 'p_value']"
   ]
  },
  {
   "cell_type": "markdown",
   "metadata": {},
   "source": [
    "## Process Dugas dataset"
   ]
  },
  {
   "cell_type": "code",
   "execution_count": 3,
   "metadata": {
    "collapsed": false
   },
   "outputs": [
    {
     "data": {
      "text/html": [
       "<div>\n",
       "<table border=\"1\" class=\"dataframe\">\n",
       "  <thead>\n",
       "    <tr style=\"text-align: right;\">\n",
       "      <th></th>\n",
       "      <th>experiment</th>\n",
       "      <th>gene_symbol</th>\n",
       "      <th>L2FC</th>\n",
       "    </tr>\n",
       "  </thead>\n",
       "  <tbody>\n",
       "    <tr>\n",
       "      <th>0</th>\n",
       "      <td>in_vitro_rat_OPC_diff</td>\n",
       "      <td>MOBP</td>\n",
       "      <td>6.900021</td>\n",
       "    </tr>\n",
       "    <tr>\n",
       "      <th>1</th>\n",
       "      <td>in_vitro_rat_OPC_diff</td>\n",
       "      <td>MBP</td>\n",
       "      <td>6.620000</td>\n",
       "    </tr>\n",
       "  </tbody>\n",
       "</table>\n",
       "</div>"
      ],
      "text/plain": [
       "              experiment gene_symbol      L2FC\n",
       "0  in_vitro_rat_OPC_diff        MOBP  6.900021\n",
       "1  in_vitro_rat_OPC_diff         MBP  6.620000"
      ]
     },
     "execution_count": 3,
     "metadata": {},
     "output_type": "execute_result"
    }
   ],
   "source": [
    "url = 'https://gist.githubusercontent.com/dhimmel/45bcff9500cd99f85200/raw/fa13c2c96c59a53b5afe9ed02f8deef72813555d/OPC-differentiation-DEGs.tsv'\n",
    "dugas_df = pandas.read_table(url)\n",
    "dugas_df['L2FC'] = numpy.sign(dugas_df.fold_change) * numpy.log2(dugas_df.fold_change.abs())\n",
    "dugas_df = dugas_df.rename(columns = {'hgnc_symbol_manual' : 'gene_symbol'})\n",
    "dugas_df['experiment'] = 'in_vitro_rat_OPC_diff'\n",
    "dugas_df = dugas_df.drop_duplicates('gene_symbol')\n",
    "dugas_df = dugas_df[[x for x in columns if x in dugas_df.columns]]\n",
    "dugas_df = dugas_df.dropna()\n",
    "dugas_df.head(2)"
   ]
  },
  {
   "cell_type": "code",
   "execution_count": 4,
   "metadata": {
    "collapsed": false
   },
   "outputs": [
    {
     "data": {
      "text/plain": [
       "90"
      ]
     },
     "execution_count": 4,
     "metadata": {},
     "output_type": "execute_result"
    }
   ],
   "source": [
    "len(dugas_df)"
   ]
  },
  {
   "cell_type": "code",
   "execution_count": 5,
   "metadata": {
    "collapsed": false,
    "scrolled": true
   },
   "outputs": [
    {
     "data": {
      "image/png": "[encoded data removed]",
      "text/plain": [
       "<matplotlib.figure.Figure at 0x7fc94a023a58>"
      ]
     },
     "metadata": {},
     "output_type": "display_data"
    }
   ],
   "source": [
    "dugas_df.L2FC.hist();"
   ]
  },
  {
   "cell_type": "markdown",
   "metadata": {},
   "source": [
    "## Process Antel dataset\n",
    "\n",
    "Here I assume that `logFC` refers to log2 fold change, which may not be correct"
   ]
  },
  {
   "cell_type": "code",
   "execution_count": 6,
   "metadata": {
    "collapsed": false
   },
   "outputs": [
    {
     "data": {
      "text/html": [
       "<div>\n",
       "<table border=\"1\" class=\"dataframe\">\n",
       "  <thead>\n",
       "    <tr style=\"text-align: right;\">\n",
       "      <th></th>\n",
       "      <th>experiment</th>\n",
       "      <th>entrez_gene_id</th>\n",
       "      <th>gene_symbol</th>\n",
       "      <th>L2FC</th>\n",
       "      <th>p_value</th>\n",
       "    </tr>\n",
       "  </thead>\n",
       "  <tbody>\n",
       "    <tr>\n",
       "      <th>9</th>\n",
       "      <td>human_OPC_diff</td>\n",
       "      <td>3003</td>\n",
       "      <td>GZMK</td>\n",
       "      <td>2.296286</td>\n",
       "      <td>0.000747</td>\n",
       "    </tr>\n",
       "    <tr>\n",
       "      <th>2</th>\n",
       "      <td>human_OPC_diff</td>\n",
       "      <td>168537</td>\n",
       "      <td>GIMAP7</td>\n",
       "      <td>2.603272</td>\n",
       "      <td>0.001793</td>\n",
       "    </tr>\n",
       "  </tbody>\n",
       "</table>\n",
       "</div>"
      ],
      "text/plain": [
       "       experiment  entrez_gene_id gene_symbol      L2FC   p_value\n",
       "9  human_OPC_diff            3003        GZMK  2.296286  0.000747\n",
       "2  human_OPC_diff          168537      GIMAP7  2.603272  0.001793"
      ]
     },
     "execution_count": 6,
     "metadata": {},
     "output_type": "execute_result"
    }
   ],
   "source": [
    "antel_df = pandas.read_excel('download/Jack_Antel (A+_A-)_forDaniel.xlsx', skiprows=1)\n",
    "antel_df = antel_df.rename(columns={'Entrez': 'entrez_gene_id', 'Symbol': 'gene_symbol', 'logFC': 'L2FC', 'adj.P.Val': 'p_value'})\n",
    "antel_df = antel_df.sort_values('p_value').drop_duplicates('entrez_gene_id')\n",
    "antel_df['experiment'] = 'human_OPC_diff'\n",
    "antel_df = antel_df[columns]\n",
    "antel_df = antel_df.dropna()\n",
    "antel_df.head(2)"
   ]
  },
  {
   "cell_type": "code",
   "execution_count": 7,
   "metadata": {
    "collapsed": false
   },
   "outputs": [
    {
     "data": {
      "text/plain": [
       "97"
      ]
     },
     "execution_count": 7,
     "metadata": {},
     "output_type": "execute_result"
    }
   ],
   "source": [
    "len(antel_df)"
   ]
  },
  {
   "cell_type": "code",
   "execution_count": 8,
   "metadata": {
    "collapsed": false
   },
   "outputs": [
    {
     "data": {
      "image/png": "[encoded data removed]",
      "text/plain": [
       "<matplotlib.figure.Figure at 0x7fc94769bcc0>"
      ]
     },
     "metadata": {},
     "output_type": "display_data"
    }
   ],
   "source": [
    "antel_df.L2FC.hist();"
   ]
  },
  {
   "cell_type": "markdown",
   "metadata": {},
   "source": [
    "## Process iPS dataset"
   ]
  },
  {
   "cell_type": "code",
   "execution_count": 9,
   "metadata": {
    "collapsed": false,
    "scrolled": true
   },
   "outputs": [],
   "source": [
    "ips_df = pandas.read_excel('download/O4 Oligos vs NSCs(Log_FC)_for_Daniel.xlsx')\n",
    "ips_df = ips_df.query(\"Group == 'Coding'\")\n",
    "ips_df = ips_df.rename(columns={'Gene Symbol': 'gene_symbol', 'Log_FC (O4H vs. NSCs)': 'L2FC', 'FDR p-value (O4H vs. NSCs)': 'p_value'})"
   ]
  },
  {
   "cell_type": "code",
   "execution_count": 10,
   "metadata": {
    "collapsed": false
   },
   "outputs": [
    {
     "data": {
      "text/html": [
       "<div>\n",
       "<table border=\"1\" class=\"dataframe\">\n",
       "  <thead>\n",
       "    <tr style=\"text-align: right;\">\n",
       "      <th></th>\n",
       "      <th>experiment</th>\n",
       "      <th>gene_symbol</th>\n",
       "      <th>L2FC</th>\n",
       "      <th>p_value</th>\n",
       "    </tr>\n",
       "  </thead>\n",
       "  <tbody>\n",
       "    <tr>\n",
       "      <th>0</th>\n",
       "      <td>iPS_OPC_diff</td>\n",
       "      <td>BCAN</td>\n",
       "      <td>8.52</td>\n",
       "      <td>0.0</td>\n",
       "    </tr>\n",
       "    <tr>\n",
       "      <th>22</th>\n",
       "      <td>iPS_OPC_diff</td>\n",
       "      <td>IGDCC3</td>\n",
       "      <td>-5.93</td>\n",
       "      <td>0.0</td>\n",
       "    </tr>\n",
       "  </tbody>\n",
       "</table>\n",
       "</div>"
      ],
      "text/plain": [
       "      experiment gene_symbol  L2FC  p_value\n",
       "0   iPS_OPC_diff        BCAN  8.52      0.0\n",
       "22  iPS_OPC_diff      IGDCC3 -5.93      0.0"
      ]
     },
     "execution_count": 10,
     "metadata": {},
     "output_type": "execute_result"
    }
   ],
   "source": [
    "ips_df['experiment'] = 'iPS_OPC_diff'\n",
    "ips_df = ips_df[[x for x in columns if x in ips_df.columns]]\n",
    "ips_df = ips_df.sort_values('p_value').drop_duplicates('gene_symbol')\n",
    "ips_df = ips_df.dropna()\n",
    "ips_df = ips_df.query(\"p_value <= 0.05\")\n",
    "ips_df = ips_df[ips_df.L2FC.abs() >= 4]\n",
    "ips_df.head(2)"
   ]
  },
  {
   "cell_type": "code",
   "execution_count": 11,
   "metadata": {
    "collapsed": false
   },
   "outputs": [
    {
     "data": {
      "image/png": "[encoded data removed]",
      "text/plain": [
       "<matplotlib.figure.Figure at 0x7fc946ec5fd0>"
      ]
     },
     "metadata": {},
     "output_type": "display_data"
    }
   ],
   "source": [
    "ips_df.L2FC.hist();"
   ]
  },
  {
   "cell_type": "markdown",
   "metadata": {},
   "source": [
    "## Combine datasets"
   ]
  },
  {
   "cell_type": "code",
   "execution_count": 12,
   "metadata": {
    "collapsed": true
   },
   "outputs": [],
   "source": [
    "opc_diff_df = pandas.concat([dugas_df, ips_df, antel_df])"
   ]
  },
  {
   "cell_type": "code",
   "execution_count": 13,
   "metadata": {
    "collapsed": false
   },
   "outputs": [
    {
     "data": {
      "text/plain": [
       "iPS_OPC_diff             141\n",
       "human_OPC_diff            97\n",
       "in_vitro_rat_OPC_diff     90\n",
       "Name: experiment, dtype: int64"
      ]
     },
     "execution_count": 13,
     "metadata": {},
     "output_type": "execute_result"
    }
   ],
   "source": [
    "opc_diff_df.experiment.value_counts()"
   ]
  },
  {
   "cell_type": "code",
   "execution_count": 15,
   "metadata": {
    "collapsed": true
   },
   "outputs": [],
   "source": [
    "opc_diff_df.to_csv('data/OPC-differentiation-diffex-genes.tsv', sep='\\t', index=False, float_format='%.3g')"
   ]
  }
 ],
 "metadata": {
  "kernelspec": {
   "display_name": "Python 3",
   "language": "python",
   "name": "python3"
  },
  "language_info": {
   "codemirror_mode": {
    "name": "ipython",
    "version": 3
   },
   "file_extension": ".py",
   "mimetype": "text/x-python",
   "name": "python",
   "nbconvert_exporter": "python",
   "pygments_lexer": "ipython3",
   "version": "3.5.1"
  }
 },
 "nbformat": 4,
 "nbformat_minor": 0
}
