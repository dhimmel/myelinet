{
 "cells": [
  {
   "cell_type": "markdown",
   "metadata": {},
   "source": [
    "# Unsupervised prediction of candidate compounds for remyelination"
   ]
  },
  {
   "cell_type": "code",
   "execution_count": 1,
   "metadata": {
    "collapsed": true
   },
   "outputs": [],
   "source": [
    "import py2neo\n",
    "import pandas"
   ]
  },
  {
   "cell_type": "markdown",
   "metadata": {},
   "source": [
    "## Connect to neo4j"
   ]
  },
  {
   "cell_type": "code",
   "execution_count": 2,
   "metadata": {
    "collapsed": false
   },
   "outputs": [],
   "source": [
    "neo = py2neo.Graph('http://localhost:7474/db/data/')"
   ]
  },
  {
   "cell_type": "code",
   "execution_count": 3,
   "metadata": {
    "collapsed": true
   },
   "outputs": [],
   "source": [
    "def to_df(results):\n",
    "    \"\"\"Convert a py2neo.RecordList to a pandas.DataFrame\"\"\"\n",
    "    return pandas.DataFrame(results.records, columns=results.columns)"
   ]
  },
  {
   "cell_type": "markdown",
   "metadata": {},
   "source": [
    "## Add differentially expressed genes in oligodendrocyte differentiation"
   ]
  },
  {
   "cell_type": "code",
   "execution_count": 4,
   "metadata": {
    "collapsed": false
   },
   "outputs": [
    {
     "data": {
      "text/plain": [
       "298"
      ]
     },
     "execution_count": 4,
     "metadata": {},
     "output_type": "execute_result"
    }
   ],
   "source": [
    "path = 'file:///home/dhimmels/Documents/github/myelinet/data/OPC-differentiation-diffex-genes.tsv'\n",
    "query = '''\n",
    "LOAD CSV WITH HEADERS FROM '{path}' AS line FIELDTERMINATOR '\\t'\n",
    "MATCH (bp:BiologicalProcess)\n",
    "MATCH (gene:Gene)\n",
    "WHERE bp.identifier = 'GO:0048709' // oligodendrocyte differentiation\n",
    "AND gene.name = line.gene_symbol\n",
    "MERGE (bp)-[rel:REGULATES_BPrG]->(gene)\n",
    "SET rel.L2FC = line.L2FC\n",
    "SET rel.experiment = line.experiment\n",
    "SET rel.p_value = line.p_value\n",
    "RETURN count(rel)\n",
    "'''.format(path = path)\n",
    "\n",
    "# Create regulation relationships and count the number of added relationships\n",
    "neo.cypher.execute_one(query)"
   ]
  },
  {
   "cell_type": "markdown",
   "metadata": {},
   "source": [
    "## Query CrGrBP metpaths ending on oligodendrocyte differentiation\n",
    "\n",
    "The `REGULATES_BPrG` relationships are from the differential expression data added above."
   ]
  },
  {
   "cell_type": "code",
   "execution_count": 5,
   "metadata": {
    "collapsed": false
   },
   "outputs": [
    {
     "data": {
      "text/html": [
       "<div>\n",
       "<table border=\"1\" class=\"dataframe\">\n",
       "  <thead>\n",
       "    <tr style=\"text-align: right;\">\n",
       "      <th></th>\n",
       "      <th>drugbank_id</th>\n",
       "      <th>drugbank_name</th>\n",
       "      <th>CrGrBP_path_count</th>\n",
       "      <th>CrGrBP_DWPC</th>\n",
       "    </tr>\n",
       "  </thead>\n",
       "  <tbody>\n",
       "    <tr>\n",
       "      <th>0</th>\n",
       "      <td>DB00773</td>\n",
       "      <td>Etoposide</td>\n",
       "      <td>14</td>\n",
       "      <td>0.016302</td>\n",
       "    </tr>\n",
       "    <tr>\n",
       "      <th>1</th>\n",
       "      <td>DB01045</td>\n",
       "      <td>Rifampicin</td>\n",
       "      <td>1</td>\n",
       "      <td>0.016231</td>\n",
       "    </tr>\n",
       "    <tr>\n",
       "      <th>2</th>\n",
       "      <td>DB00631</td>\n",
       "      <td>Clofarabine</td>\n",
       "      <td>14</td>\n",
       "      <td>0.014171</td>\n",
       "    </tr>\n",
       "    <tr>\n",
       "      <th>3</th>\n",
       "      <td>DB01254</td>\n",
       "      <td>Dasatinib</td>\n",
       "      <td>17</td>\n",
       "      <td>0.013940</td>\n",
       "    </tr>\n",
       "    <tr>\n",
       "      <th>4</th>\n",
       "      <td>DB00602</td>\n",
       "      <td>Ivermectin</td>\n",
       "      <td>18</td>\n",
       "      <td>0.013851</td>\n",
       "    </tr>\n",
       "  </tbody>\n",
       "</table>\n",
       "</div>"
      ],
      "text/plain": [
       "  drugbank_id drugbank_name  CrGrBP_path_count  CrGrBP_DWPC\n",
       "0     DB00773     Etoposide                 14     0.016302\n",
       "1     DB01045    Rifampicin                  1     0.016231\n",
       "2     DB00631   Clofarabine                 14     0.014171\n",
       "3     DB01254     Dasatinib                 17     0.013940\n",
       "4     DB00602    Ivermectin                 18     0.013851"
      ]
     },
     "execution_count": 5,
     "metadata": {},
     "output_type": "execute_result"
    }
   ],
   "source": [
    "query = '''\n",
    "MATCH (n0:Compound)\n",
    "OPTIONAL MATCH paths = \n",
    "  (n0)-[:UPREGULATES_CuG|:DOWNREGULATES_CdG]-(n1)-[:REGULATES_BPrG]-(n2:BiologicalProcess)\n",
    "WHERE n2.identifier = 'GO:0048709' // oligodendrocyte differentiation\n",
    "WITH\n",
    "  n0 AS source, paths,\n",
    "  // Extract the degrees along each path\n",
    "  [\n",
    "    size((n0)-[:UPREGULATES_CuG|:DOWNREGULATES_CdG]-()),\n",
    "    size(()-[:UPREGULATES_CuG|:DOWNREGULATES_CdG]-(n1)),\n",
    "    size((n1)-[:REGULATES_BPrG]-()),\n",
    "    size(()-[:REGULATES_BPrG]-(n2))\n",
    "  ] AS degrees\n",
    "RETURN\n",
    "  source.identifier AS drugbank_id,\n",
    "  source.name AS drugbank_name,\n",
    "  count(paths) AS CrGrBP_path_count,\n",
    "  sum(reduce(pdp = 1.0, d in degrees| pdp * d ^ -0.5)) AS CrGrBP_DWPC\n",
    "ORDER BY CrGrBP_DWPC DESC, drugbank_name\n",
    "'''\n",
    "\n",
    "regulation_df = to_df(neo.cypher.execute(query))\n",
    "regulation_df.head()"
   ]
  },
  {
   "cell_type": "markdown",
   "metadata": {},
   "source": [
    "## Query CbGiGpBP metpaths ending on myelination\n",
    "\n",
    "The gene at the bolded position (Cb**G**iGpBP) is required to be expressed in the central nervous system."
   ]
  },
  {
   "cell_type": "code",
   "execution_count": 6,
   "metadata": {
    "collapsed": false
   },
   "outputs": [
    {
     "data": {
      "text/html": [
       "<div>\n",
       "<table border=\"1\" class=\"dataframe\">\n",
       "  <thead>\n",
       "    <tr style=\"text-align: right;\">\n",
       "      <th></th>\n",
       "      <th>drugbank_id</th>\n",
       "      <th>drugbank_name</th>\n",
       "      <th>CbGiGpBP_path_count</th>\n",
       "      <th>CbGiGpBP_DWPC</th>\n",
       "    </tr>\n",
       "  </thead>\n",
       "  <tbody>\n",
       "    <tr>\n",
       "      <th>0</th>\n",
       "      <td>DB00909</td>\n",
       "      <td>Zonisamide</td>\n",
       "      <td>4</td>\n",
       "      <td>0.002521</td>\n",
       "    </tr>\n",
       "    <tr>\n",
       "      <th>1</th>\n",
       "      <td>DB01141</td>\n",
       "      <td>Micafungin</td>\n",
       "      <td>1</td>\n",
       "      <td>0.002252</td>\n",
       "    </tr>\n",
       "    <tr>\n",
       "      <th>2</th>\n",
       "      <td>DB06663</td>\n",
       "      <td>Pasireotide</td>\n",
       "      <td>2</td>\n",
       "      <td>0.001263</td>\n",
       "    </tr>\n",
       "    <tr>\n",
       "      <th>3</th>\n",
       "      <td>DB04786</td>\n",
       "      <td>Suramin</td>\n",
       "      <td>4</td>\n",
       "      <td>0.001093</td>\n",
       "    </tr>\n",
       "    <tr>\n",
       "      <th>4</th>\n",
       "      <td>DB00104</td>\n",
       "      <td>Octreotide</td>\n",
       "      <td>2</td>\n",
       "      <td>0.001032</td>\n",
       "    </tr>\n",
       "  </tbody>\n",
       "</table>\n",
       "</div>"
      ],
      "text/plain": [
       "  drugbank_id drugbank_name  CbGiGpBP_path_count  CbGiGpBP_DWPC\n",
       "0     DB00909    Zonisamide                    4       0.002521\n",
       "1     DB01141    Micafungin                    1       0.002252\n",
       "2     DB06663   Pasireotide                    2       0.001263\n",
       "3     DB04786       Suramin                    4       0.001093\n",
       "4     DB00104    Octreotide                    2       0.001032"
      ]
     },
     "execution_count": 6,
     "metadata": {},
     "output_type": "execute_result"
    }
   ],
   "source": [
    "query = '''\n",
    "// Find CbGiGpBP where first gene is expressed in the CNS\n",
    "MATCH (n0:Compound)\n",
    "OPTIONAL MATCH paths = \n",
    "  (n0)-[:BINDS_CbG]-(n1)-[:INTERACTS_GiG]-(n2)-[:PARTICIPATES_GpBP]-(n3:BiologicalProcess)\n",
    "WHERE n3.identifier = 'GO:0042552' // myelination\n",
    "AND exists((:Anatomy {identifier: 'UBERON:0001017'})-[:EXPRESSES_AeG]-(n1))\n",
    "WITH\n",
    "  n0 AS source, paths,\n",
    "  // Extract the degrees along each path\n",
    "  [\n",
    "    size((n0)-[:BINDS_CbG]-()),\n",
    "    size(()-[:BINDS_CbG]-(n1)),\n",
    "    size((n1)-[:INTERACTS_GiG]-()),\n",
    "    size(()-[:INTERACTS_GiG]-(n2)),\n",
    "    size((n2)-[:PARTICIPATES_GpBP]-()),\n",
    "    size(()-[:PARTICIPATES_GpBP]-(n3))\n",
    "  ] AS degrees\n",
    "RETURN\n",
    "  source.identifier AS drugbank_id,\n",
    "  source.name AS drugbank_name,\n",
    "  count(paths) AS CbGiGpBP_path_count,\n",
    "  sum(reduce(pdp = 1.0, d in degrees| pdp * d ^ -0.5)) AS CbGiGpBP_DWPC\n",
    "ORDER BY CbGiGpBP_DWPC DESC, drugbank_name\n",
    "'''\n",
    "\n",
    "target_df = to_df(neo.cypher.execute(query))\n",
    "target_df.head()"
   ]
  },
  {
   "cell_type": "markdown",
   "metadata": {},
   "source": [
    "## Merge results from previous queries"
   ]
  },
  {
   "cell_type": "code",
   "execution_count": 7,
   "metadata": {
    "collapsed": false
   },
   "outputs": [
    {
     "data": {
      "text/html": [
       "<div>\n",
       "<table border=\"1\" class=\"dataframe\">\n",
       "  <thead>\n",
       "    <tr style=\"text-align: right;\">\n",
       "      <th></th>\n",
       "      <th>drugbank_id</th>\n",
       "      <th>drugbank_name</th>\n",
       "      <th>CrGrBP_path_count</th>\n",
       "      <th>CrGrBP_DWPC</th>\n",
       "      <th>CbGiGpBP_path_count</th>\n",
       "      <th>CbGiGpBP_DWPC</th>\n",
       "    </tr>\n",
       "  </thead>\n",
       "  <tbody>\n",
       "    <tr>\n",
       "      <th>0</th>\n",
       "      <td>DB00773</td>\n",
       "      <td>Etoposide</td>\n",
       "      <td>14</td>\n",
       "      <td>0.016302</td>\n",
       "      <td>1</td>\n",
       "      <td>0.000005</td>\n",
       "    </tr>\n",
       "    <tr>\n",
       "      <th>1</th>\n",
       "      <td>DB01045</td>\n",
       "      <td>Rifampicin</td>\n",
       "      <td>1</td>\n",
       "      <td>0.016231</td>\n",
       "      <td>1</td>\n",
       "      <td>0.000004</td>\n",
       "    </tr>\n",
       "    <tr>\n",
       "      <th>2</th>\n",
       "      <td>DB00631</td>\n",
       "      <td>Clofarabine</td>\n",
       "      <td>14</td>\n",
       "      <td>0.014171</td>\n",
       "      <td>0</td>\n",
       "      <td>0.000000</td>\n",
       "    </tr>\n",
       "    <tr>\n",
       "      <th>3</th>\n",
       "      <td>DB01254</td>\n",
       "      <td>Dasatinib</td>\n",
       "      <td>17</td>\n",
       "      <td>0.013940</td>\n",
       "      <td>37</td>\n",
       "      <td>0.000524</td>\n",
       "    </tr>\n",
       "    <tr>\n",
       "      <th>4</th>\n",
       "      <td>DB00602</td>\n",
       "      <td>Ivermectin</td>\n",
       "      <td>18</td>\n",
       "      <td>0.013851</td>\n",
       "      <td>0</td>\n",
       "      <td>0.000000</td>\n",
       "    </tr>\n",
       "  </tbody>\n",
       "</table>\n",
       "</div>"
      ],
      "text/plain": [
       "  drugbank_id drugbank_name  CrGrBP_path_count  CrGrBP_DWPC  \\\n",
       "0     DB00773     Etoposide                 14     0.016302   \n",
       "1     DB01045    Rifampicin                  1     0.016231   \n",
       "2     DB00631   Clofarabine                 14     0.014171   \n",
       "3     DB01254     Dasatinib                 17     0.013940   \n",
       "4     DB00602    Ivermectin                 18     0.013851   \n",
       "\n",
       "   CbGiGpBP_path_count  CbGiGpBP_DWPC  \n",
       "0                    1       0.000005  \n",
       "1                    1       0.000004  \n",
       "2                    0       0.000000  \n",
       "3                   37       0.000524  \n",
       "4                    0       0.000000  "
      ]
     },
     "execution_count": 7,
     "metadata": {},
     "output_type": "execute_result"
    }
   ],
   "source": [
    "merged_df = regulation_df.merge(target_df)\n",
    "merged_df.head()"
   ]
  },
  {
   "cell_type": "code",
   "execution_count": 8,
   "metadata": {
    "collapsed": true
   },
   "outputs": [],
   "source": [
    "merged_df.to_csv('data/queries.tsv', sep='\\t', index=False, float_format='%.4g')"
   ]
  }
 ],
 "metadata": {
  "kernelspec": {
   "display_name": "Python 3",
   "language": "python",
   "name": "python3"
  },
  "language_info": {
   "codemirror_mode": {
    "name": "ipython",
    "version": 3
   },
   "file_extension": ".py",
   "mimetype": "text/x-python",
   "name": "python",
   "nbconvert_exporter": "python",
   "pygments_lexer": "ipython3",
   "version": "3.5.1"
  }
 },
 "nbformat": 4,
 "nbformat_minor": 0
}
